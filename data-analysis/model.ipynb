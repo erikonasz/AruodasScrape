{
 "cells": [
  {
   "cell_type": "code",
   "execution_count": 71,
   "metadata": {},
   "outputs": [
    {
     "ename": "ModuleNotFoundError",
     "evalue": "No module named 'matplotlib'",
     "output_type": "error",
     "traceback": [
      "\u001b[1;31m---------------------------------------------------------------------------\u001b[0m",
      "\u001b[1;31mModuleNotFoundError\u001b[0m                       Traceback (most recent call last)",
      "Cell \u001b[1;32mIn[71], line 2\u001b[0m\n\u001b[0;32m      1\u001b[0m \u001b[39mimport\u001b[39;00m \u001b[39mpandas\u001b[39;00m \u001b[39mas\u001b[39;00m \u001b[39mpd\u001b[39;00m\n\u001b[1;32m----> 2\u001b[0m \u001b[39mimport\u001b[39;00m \u001b[39mmatplotlib\u001b[39;00m\u001b[39m.\u001b[39;00m\u001b[39mpyplot\u001b[39;00m \u001b[39mas\u001b[39;00m \u001b[39mplt\u001b[39;00m\n\u001b[0;32m      3\u001b[0m \u001b[39mimport\u001b[39;00m \u001b[39mseaborn\u001b[39;00m \u001b[39mas\u001b[39;00m \u001b[39msns\u001b[39;00m\n\u001b[0;32m      4\u001b[0m \u001b[39mimport\u001b[39;00m \u001b[39mre\u001b[39;00m\n",
      "\u001b[1;31mModuleNotFoundError\u001b[0m: No module named 'matplotlib'"
     ]
    }
   ],
   "source": [
    "import pandas as pd\n",
    "import matplotlib.pyplot as plt\n",
    "import seaborn as sns\n",
    "import re"
   ]
  },
  {
   "attachments": {},
   "cell_type": "markdown",
   "metadata": {},
   "source": [
    "Loading scraped data."
   ]
  },
  {
   "cell_type": "code",
   "execution_count": 49,
   "metadata": {},
   "outputs": [],
   "source": [
    "df = pd.read_csv(\"apartments.csv\")"
   ]
  },
  {
   "attachments": {},
   "cell_type": "markdown",
   "metadata": {},
   "source": [
    "Exploring the first 5 rows"
   ]
  },
  {
   "cell_type": "code",
   "execution_count": 12,
   "metadata": {},
   "outputs": [
    {
     "name": "stdout",
     "output_type": "stream",
     "text": [
      "      City         District                 Street     Area  Rooms  Floor  \\\n",
      "0  Vilnius      Santariškės          Dangeručio g.  66,69m2      3      3   \n",
      "1   Kaunas  Žemieji Šančiai  A. Juozapavičiaus pr.  41,67m2      2      4   \n",
      "2  Vilnius      Pašilaičiai           Sviliškių g.  76,52m2      4      3   \n",
      "3  Vilnius      Pašilaičiai           Sviliškių g.  34,77m2      1      3   \n",
      "4  Vilnius        Grigiškės            Vilniaus g.  34,34m2      1      7   \n",
      "\n",
      "   Year Building Type                                Heating Furnishing  \\\n",
      "0  2022         Brick                  Electric, aerothermal    Partial   \n",
      "1  2023         Other  Central, electric, central thermostat    Partial   \n",
      "2  2023         Brick                     Central thermostat      Fully   \n",
      "3  2023         Brick                     Central thermostat      Fully   \n",
      "4  1990         Brick                                Central        Not   \n",
      "\n",
      "  EnergyClass   Price  \n",
      "0         A++  167000  \n",
      "1         A++  112509  \n",
      "2         NaN  202000  \n",
      "3          A+  110000  \n",
      "4         NaN   65000  \n"
     ]
    }
   ],
   "source": [
    "print(df.head())\n"
   ]
  },
  {
   "attachments": {},
   "cell_type": "markdown",
   "metadata": {},
   "source": [
    "Data cleaning"
   ]
  },
  {
   "cell_type": "code",
   "execution_count": 14,
   "metadata": {},
   "outputs": [
    {
     "name": "stdout",
     "output_type": "stream",
     "text": [
      "<class 'pandas.core.frame.DataFrame'>\n",
      "RangeIndex: 6511 entries, 0 to 6510\n",
      "Data columns (total 12 columns):\n",
      " #   Column         Non-Null Count  Dtype \n",
      "---  ------         --------------  ----- \n",
      " 0   City           6511 non-null   object\n",
      " 1   District       6511 non-null   object\n",
      " 2   Street         6511 non-null   object\n",
      " 3   Area           6511 non-null   object\n",
      " 4   Rooms          6511 non-null   int64 \n",
      " 5   Floor          6511 non-null   int64 \n",
      " 6   Year           6511 non-null   int64 \n",
      " 7   Building Type  6511 non-null   object\n",
      " 8   Heating        6511 non-null   object\n",
      " 9   Furnishing     6511 non-null   object\n",
      " 10  EnergyClass    1033 non-null   object\n",
      " 11  Price          6511 non-null   int64 \n",
      "dtypes: int64(4), object(8)\n",
      "memory usage: 610.5+ KB\n",
      "None\n"
     ]
    }
   ],
   "source": [
    "print(df.info())"
   ]
  },
  {
   "attachments": {},
   "cell_type": "markdown",
   "metadata": {},
   "source": [
    "Here we can analyze the means, max, min etc. with df.describe. On average, the apartments have 2.36 rooms and are on the 3.19th floor of their building, average year of construction for the apartments is 1988. The average price for an apartment in the dataset is 131,450, but there is a lot of variability in the prices. The cheapest apartment is listed for 346 and the most expensive for 2,030,000."
   ]
  },
  {
   "cell_type": "code",
   "execution_count": 16,
   "metadata": {},
   "outputs": [
    {
     "name": "stdout",
     "output_type": "stream",
     "text": [
      "             Rooms        Floor         Year         Price\n",
      "count  6511.000000  6511.000000  6511.000000  6.511000e+03\n",
      "mean      2.359392     3.186147  1988.420519  1.314508e+05\n",
      "std       0.945766     2.299682    29.520501  1.305770e+05\n",
      "min       1.000000     0.000000  1111.000000  3.460000e+02\n",
      "25%       2.000000     2.000000  1971.000000  5.900000e+04\n",
      "50%       2.000000     3.000000  1986.000000  9.900000e+04\n",
      "75%       3.000000     4.000000  2017.000000  1.602000e+05\n",
      "max       8.000000    33.000000  2025.000000  2.030000e+06\n"
     ]
    }
   ],
   "source": [
    "print(df.describe())"
   ]
  },
  {
   "attachments": {},
   "cell_type": "markdown",
   "metadata": {},
   "source": [
    "Checking for missing values. It seems that EnergyClass has 5,4k missing values. Dropping this row completely, to not cause inaccurate model"
   ]
  },
  {
   "cell_type": "code",
   "execution_count": 17,
   "metadata": {},
   "outputs": [
    {
     "name": "stdout",
     "output_type": "stream",
     "text": [
      "City                0\n",
      "District            0\n",
      "Street              0\n",
      "Area                0\n",
      "Rooms               0\n",
      "Floor               0\n",
      "Year                0\n",
      "Building Type       0\n",
      "Heating             0\n",
      "Furnishing          0\n",
      "EnergyClass      5478\n",
      "Price               0\n",
      "dtype: int64\n"
     ]
    }
   ],
   "source": [
    "print(df.isnull().sum())"
   ]
  },
  {
   "cell_type": "code",
   "execution_count": 50,
   "metadata": {},
   "outputs": [],
   "source": [
    "df = df.drop('EnergyClass', axis=1)"
   ]
  },
  {
   "attachments": {},
   "cell_type": "markdown",
   "metadata": {},
   "source": [
    "Checking if there's duplicates, it seems that 256 items are duplicated, people could uploaded their apartament twice(or more) by accident. Dropping them"
   ]
  },
  {
   "cell_type": "code",
   "execution_count": 20,
   "metadata": {},
   "outputs": [
    {
     "name": "stdout",
     "output_type": "stream",
     "text": [
      "256\n"
     ]
    }
   ],
   "source": [
    "print(df.duplicated().sum())"
   ]
  },
  {
   "cell_type": "code",
   "execution_count": 51,
   "metadata": {},
   "outputs": [],
   "source": [
    "df = df.drop_duplicates()"
   ]
  },
  {
   "attachments": {},
   "cell_type": "markdown",
   "metadata": {},
   "source": [
    "Checking datatypes, it seems that Area column is detected as string, this is prob due to m2 at the end, removing it and trasforming to float"
   ]
  },
  {
   "cell_type": "code",
   "execution_count": 26,
   "metadata": {},
   "outputs": [
    {
     "name": "stdout",
     "output_type": "stream",
     "text": [
      "City             object\n",
      "District         object\n",
      "Street           object\n",
      "Area             object\n",
      "Rooms             int64\n",
      "Floor             int64\n",
      "Year              int64\n",
      "Building Type    object\n",
      "Heating          object\n",
      "Furnishing       object\n",
      "Price             int64\n",
      "dtype: object\n"
     ]
    }
   ],
   "source": [
    "print(df.dtypes)"
   ]
  },
  {
   "cell_type": "code",
   "execution_count": 55,
   "metadata": {},
   "outputs": [],
   "source": [
    "df['Area'] = df['Area'].str.replace(',', '.').str.replace('m2', '').astype(float)\n"
   ]
  },
  {
   "cell_type": "code",
   "execution_count": 56,
   "metadata": {},
   "outputs": [
    {
     "name": "stdout",
     "output_type": "stream",
     "text": [
      "City              object\n",
      "District          object\n",
      "Street            object\n",
      "Area             float64\n",
      "Rooms              int64\n",
      "Floor              int64\n",
      "Year               int64\n",
      "Building Type     object\n",
      "Heating           object\n",
      "Furnishing        object\n",
      "Price              int64\n",
      "dtype: object\n"
     ]
    }
   ],
   "source": [
    "print(df.dtypes)"
   ]
  },
  {
   "attachments": {},
   "cell_type": "markdown",
   "metadata": {},
   "source": [
    "Checking for uniques in harder-to-scrape columns"
   ]
  },
  {
   "cell_type": "code",
   "execution_count": 59,
   "metadata": {},
   "outputs": [
    {
     "data": {
      "text/plain": [
       "<bound method Series.unique of 0       66.69\n",
       "1       41.67\n",
       "2       76.52\n",
       "3       34.77\n",
       "4       34.34\n",
       "        ...  \n",
       "6506    60.00\n",
       "6507    61.00\n",
       "6508    34.00\n",
       "6509    69.00\n",
       "6510    33.22\n",
       "Name: Area, Length: 6255, dtype: float64>"
      ]
     },
     "execution_count": 59,
     "metadata": {},
     "output_type": "execute_result"
    }
   ],
   "source": [
    "df['Area'].unique"
   ]
  },
  {
   "cell_type": "code",
   "execution_count": 62,
   "metadata": {},
   "outputs": [
    {
     "data": {
      "text/plain": [
       "<bound method Series.unique of 0       2022\n",
       "1       2023\n",
       "2       2023\n",
       "3       2023\n",
       "4       1990\n",
       "        ... \n",
       "6506    1993\n",
       "6507    1970\n",
       "6508    1978\n",
       "6509    2022\n",
       "6510    1982\n",
       "Name: Year, Length: 6255, dtype: int64>"
      ]
     },
     "execution_count": 62,
     "metadata": {},
     "output_type": "execute_result"
    }
   ],
   "source": [
    "df['Year'].unique"
   ]
  },
  {
   "cell_type": "code",
   "execution_count": 63,
   "metadata": {},
   "outputs": [
    {
     "data": {
      "text/plain": [
       "<bound method Series.unique of 0             Brick\n",
       "1             Other\n",
       "2             Brick\n",
       "3             Brick\n",
       "4             Brick\n",
       "           ...     \n",
       "6506          Brick\n",
       "6507    Block house\n",
       "6508          Brick\n",
       "6509          Brick\n",
       "6510    Block house\n",
       "Name: Building Type, Length: 6255, dtype: object>"
      ]
     },
     "execution_count": 63,
     "metadata": {},
     "output_type": "execute_result"
    }
   ],
   "source": [
    "df['Building Type'].unique"
   ]
  },
  {
   "cell_type": "code",
   "execution_count": 64,
   "metadata": {},
   "outputs": [
    {
     "data": {
      "text/plain": [
       "<bound method Series.unique of 0                       Electric, aerothermal\n",
       "1       Central, electric, central thermostat\n",
       "2                          Central thermostat\n",
       "3                          Central thermostat\n",
       "4                                     Central\n",
       "                        ...                  \n",
       "6506                                  Central\n",
       "6507                                 Electric\n",
       "6508                                  Central\n",
       "6509                                      Gas\n",
       "6510                                  Central\n",
       "Name: Heating, Length: 6255, dtype: object>"
      ]
     },
     "execution_count": 64,
     "metadata": {},
     "output_type": "execute_result"
    }
   ],
   "source": [
    "df['Heating'].unique"
   ]
  },
  {
   "cell_type": "code",
   "execution_count": 65,
   "metadata": {},
   "outputs": [
    {
     "data": {
      "text/plain": [
       "<bound method Series.unique of 0       Partial\n",
       "1       Partial\n",
       "2         Fully\n",
       "3         Fully\n",
       "4           Not\n",
       "         ...   \n",
       "6506      Fully\n",
       "6507        Not\n",
       "6508      Fully\n",
       "6509      Fully\n",
       "6510      Fully\n",
       "Name: Furnishing, Length: 6255, dtype: object>"
      ]
     },
     "execution_count": 65,
     "metadata": {},
     "output_type": "execute_result"
    }
   ],
   "source": [
    "df['Furnishing'].unique"
   ]
  },
  {
   "attachments": {},
   "cell_type": "markdown",
   "metadata": {},
   "source": [
    "After cleaning data, we have 6255 results left. (Out of 6511)"
   ]
  },
  {
   "cell_type": "code",
   "execution_count": 67,
   "metadata": {},
   "outputs": [
    {
     "name": "stdout",
     "output_type": "stream",
     "text": [
      "<class 'pandas.core.frame.DataFrame'>\n",
      "Int64Index: 6255 entries, 0 to 6510\n",
      "Data columns (total 11 columns):\n",
      " #   Column         Non-Null Count  Dtype  \n",
      "---  ------         --------------  -----  \n",
      " 0   City           6255 non-null   object \n",
      " 1   District       6255 non-null   object \n",
      " 2   Street         6255 non-null   object \n",
      " 3   Area           6255 non-null   float64\n",
      " 4   Rooms          6255 non-null   int64  \n",
      " 5   Floor          6255 non-null   int64  \n",
      " 6   Year           6255 non-null   int64  \n",
      " 7   Building Type  6255 non-null   object \n",
      " 8   Heating        6255 non-null   object \n",
      " 9   Furnishing     6255 non-null   object \n",
      " 10  Price          6255 non-null   int64  \n",
      "dtypes: float64(1), int64(4), object(6)\n",
      "memory usage: 586.4+ KB\n"
     ]
    }
   ],
   "source": [
    "df.info()"
   ]
  },
  {
   "attachments": {},
   "cell_type": "markdown",
   "metadata": {},
   "source": [
    "Exporting the new cleaned file in a fresh CSV file"
   ]
  },
  {
   "cell_type": "code",
   "execution_count": 68,
   "metadata": {},
   "outputs": [],
   "source": [
    "df.to_csv(\"apartments_clean.csv\", index=False)"
   ]
  },
  {
   "attachments": {},
   "cell_type": "markdown",
   "metadata": {},
   "source": [
    "---------------------------------------------------------------------------------------------------------------------------------------------------------\n",
    "Loading new clean data"
   ]
  },
  {
   "cell_type": "code",
   "execution_count": 69,
   "metadata": {},
   "outputs": [],
   "source": [
    "data = pd.read_csv(\"apartments_clean.csv\")"
   ]
  }
 ],
 "metadata": {
  "kernelspec": {
   "display_name": "venv",
   "language": "python",
   "name": "python3"
  },
  "language_info": {
   "codemirror_mode": {
    "name": "ipython",
    "version": 3
   },
   "file_extension": ".py",
   "mimetype": "text/x-python",
   "name": "python",
   "nbconvert_exporter": "python",
   "pygments_lexer": "ipython3",
   "version": "3.10.5"
  },
  "orig_nbformat": 4,
  "vscode": {
   "interpreter": {
    "hash": "59ecd6b0f898a8c8090110ef364bf387c2bc171b411601b96139d0093fdb5c01"
   }
  }
 },
 "nbformat": 4,
 "nbformat_minor": 2
}
